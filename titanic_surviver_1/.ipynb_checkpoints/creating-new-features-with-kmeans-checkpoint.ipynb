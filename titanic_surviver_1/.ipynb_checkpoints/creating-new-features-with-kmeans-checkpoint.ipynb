{
 "cells": [
  {
   "cell_type": "code",
   "execution_count": 1,
   "id": "4015b748",
   "metadata": {
    "execution": {
     "iopub.execute_input": "2022-05-15T12:57:36.730762Z",
     "iopub.status.busy": "2022-05-15T12:57:36.730020Z",
     "iopub.status.idle": "2022-05-15T12:57:38.390574Z",
     "shell.execute_reply": "2022-05-15T12:57:38.389477Z"
    },
    "papermill": {
     "duration": 1.691168,
     "end_time": "2022-05-15T12:57:38.393234",
     "exception": false,
     "start_time": "2022-05-15T12:57:36.702066",
     "status": "completed"
    },
    "tags": []
   },
   "outputs": [],
   "source": [
    "import pandas as pd\n",
    "import numpy as np\n",
    "\n",
    "import seaborn as sns\n",
    "import matplotlib.pyplot as plt\n",
    "pd.set_option('max_columns', None)\n",
    "\n",
    "from sklearn.cluster import KMeans\n",
    "from sklearn.impute import KNNImputer\n",
    "from sklearn.metrics import accuracy_score\n",
    "from sklearn.model_selection import train_test_split, GridSearchCV, cross_val_score\n",
    "\n",
    "from sklearn.svm import SVC\n",
    "from sklearn.naive_bayes import GaussianNB\n",
    "from sklearn.tree import DecisionTreeClassifier\n",
    "from sklearn.neighbors import KNeighborsClassifier\n",
    "from sklearn.linear_model import LogisticRegression\n",
    "from sklearn.preprocessing import StandardScaler\n",
    "from sklearn.discriminant_analysis import LinearDiscriminantAnalysis\n",
    "from sklearn.ensemble import RandomForestClassifier"
   ]
  },
  {
   "cell_type": "code",
   "execution_count": null,
   "id": "d7564601",
   "metadata": {
    "papermill": {
     "duration": 0.026757,
     "end_time": "2022-05-15T12:57:38.449520",
     "exception": false,
     "start_time": "2022-05-15T12:57:38.422763",
     "status": "completed"
    },
    "tags": []
   },
   "outputs": [],
   "source": []
  },
  {
   "cell_type": "code",
   "execution_count": 2,
   "id": "f44daac3",
   "metadata": {
    "execution": {
     "iopub.execute_input": "2022-05-15T12:57:38.502587Z",
     "iopub.status.busy": "2022-05-15T12:57:38.502176Z",
     "iopub.status.idle": "2022-05-15T12:57:38.528394Z",
     "shell.execute_reply": "2022-05-15T12:57:38.527590Z"
    },
    "papermill": {
     "duration": 0.054578,
     "end_time": "2022-05-15T12:57:38.530601",
     "exception": false,
     "start_time": "2022-05-15T12:57:38.476023",
     "status": "completed"
    },
    "tags": []
   },
   "outputs": [],
   "source": [
    "train0 = pd.read_csv('../input/titanic/train.csv')\n",
    "test0 = pd.read_csv('../input/titanic/test.csv')"
   ]
  },
  {
   "cell_type": "code",
   "execution_count": 3,
   "id": "dfb5f83c",
   "metadata": {
    "execution": {
     "iopub.execute_input": "2022-05-15T12:57:38.582040Z",
     "iopub.status.busy": "2022-05-15T12:57:38.581442Z",
     "iopub.status.idle": "2022-05-15T12:57:38.615469Z",
     "shell.execute_reply": "2022-05-15T12:57:38.614625Z"
    },
    "papermill": {
     "duration": 0.062589,
     "end_time": "2022-05-15T12:57:38.618015",
     "exception": false,
     "start_time": "2022-05-15T12:57:38.555426",
     "status": "completed"
    },
    "tags": []
   },
   "outputs": [
    {
     "data": {
      "text/html": [
       "<div>\n",
       "<style scoped>\n",
       "    .dataframe tbody tr th:only-of-type {\n",
       "        vertical-align: middle;\n",
       "    }\n",
       "\n",
       "    .dataframe tbody tr th {\n",
       "        vertical-align: top;\n",
       "    }\n",
       "\n",
       "    .dataframe thead th {\n",
       "        text-align: right;\n",
       "    }\n",
       "</style>\n",
       "<table border=\"1\" class=\"dataframe\">\n",
       "  <thead>\n",
       "    <tr style=\"text-align: right;\">\n",
       "      <th></th>\n",
       "      <th>PassengerId</th>\n",
       "      <th>Survived</th>\n",
       "      <th>Pclass</th>\n",
       "      <th>Name</th>\n",
       "      <th>Sex</th>\n",
       "      <th>Age</th>\n",
       "      <th>SibSp</th>\n",
       "      <th>Parch</th>\n",
       "      <th>Ticket</th>\n",
       "      <th>Fare</th>\n",
       "      <th>Cabin</th>\n",
       "      <th>Embarked</th>\n",
       "    </tr>\n",
       "  </thead>\n",
       "  <tbody>\n",
       "    <tr>\n",
       "      <th>0</th>\n",
       "      <td>1</td>\n",
       "      <td>0</td>\n",
       "      <td>3</td>\n",
       "      <td>Braund, Mr. Owen Harris</td>\n",
       "      <td>male</td>\n",
       "      <td>22.0</td>\n",
       "      <td>1</td>\n",
       "      <td>0</td>\n",
       "      <td>A/5 21171</td>\n",
       "      <td>7.2500</td>\n",
       "      <td>NaN</td>\n",
       "      <td>S</td>\n",
       "    </tr>\n",
       "    <tr>\n",
       "      <th>1</th>\n",
       "      <td>2</td>\n",
       "      <td>1</td>\n",
       "      <td>1</td>\n",
       "      <td>Cumings, Mrs. John Bradley (Florence Briggs Th...</td>\n",
       "      <td>female</td>\n",
       "      <td>38.0</td>\n",
       "      <td>1</td>\n",
       "      <td>0</td>\n",
       "      <td>PC 17599</td>\n",
       "      <td>71.2833</td>\n",
       "      <td>C85</td>\n",
       "      <td>C</td>\n",
       "    </tr>\n",
       "    <tr>\n",
       "      <th>2</th>\n",
       "      <td>3</td>\n",
       "      <td>1</td>\n",
       "      <td>3</td>\n",
       "      <td>Heikkinen, Miss. Laina</td>\n",
       "      <td>female</td>\n",
       "      <td>26.0</td>\n",
       "      <td>0</td>\n",
       "      <td>0</td>\n",
       "      <td>STON/O2. 3101282</td>\n",
       "      <td>7.9250</td>\n",
       "      <td>NaN</td>\n",
       "      <td>S</td>\n",
       "    </tr>\n",
       "    <tr>\n",
       "      <th>3</th>\n",
       "      <td>4</td>\n",
       "      <td>1</td>\n",
       "      <td>1</td>\n",
       "      <td>Futrelle, Mrs. Jacques Heath (Lily May Peel)</td>\n",
       "      <td>female</td>\n",
       "      <td>35.0</td>\n",
       "      <td>1</td>\n",
       "      <td>0</td>\n",
       "      <td>113803</td>\n",
       "      <td>53.1000</td>\n",
       "      <td>C123</td>\n",
       "      <td>S</td>\n",
       "    </tr>\n",
       "    <tr>\n",
       "      <th>4</th>\n",
       "      <td>5</td>\n",
       "      <td>0</td>\n",
       "      <td>3</td>\n",
       "      <td>Allen, Mr. William Henry</td>\n",
       "      <td>male</td>\n",
       "      <td>35.0</td>\n",
       "      <td>0</td>\n",
       "      <td>0</td>\n",
       "      <td>373450</td>\n",
       "      <td>8.0500</td>\n",
       "      <td>NaN</td>\n",
       "      <td>S</td>\n",
       "    </tr>\n",
       "    <tr>\n",
       "      <th>...</th>\n",
       "      <td>...</td>\n",
       "      <td>...</td>\n",
       "      <td>...</td>\n",
       "      <td>...</td>\n",
       "      <td>...</td>\n",
       "      <td>...</td>\n",
       "      <td>...</td>\n",
       "      <td>...</td>\n",
       "      <td>...</td>\n",
       "      <td>...</td>\n",
       "      <td>...</td>\n",
       "      <td>...</td>\n",
       "    </tr>\n",
       "    <tr>\n",
       "      <th>886</th>\n",
       "      <td>887</td>\n",
       "      <td>0</td>\n",
       "      <td>2</td>\n",
       "      <td>Montvila, Rev. Juozas</td>\n",
       "      <td>male</td>\n",
       "      <td>27.0</td>\n",
       "      <td>0</td>\n",
       "      <td>0</td>\n",
       "      <td>211536</td>\n",
       "      <td>13.0000</td>\n",
       "      <td>NaN</td>\n",
       "      <td>S</td>\n",
       "    </tr>\n",
       "    <tr>\n",
       "      <th>887</th>\n",
       "      <td>888</td>\n",
       "      <td>1</td>\n",
       "      <td>1</td>\n",
       "      <td>Graham, Miss. Margaret Edith</td>\n",
       "      <td>female</td>\n",
       "      <td>19.0</td>\n",
       "      <td>0</td>\n",
       "      <td>0</td>\n",
       "      <td>112053</td>\n",
       "      <td>30.0000</td>\n",
       "      <td>B42</td>\n",
       "      <td>S</td>\n",
       "    </tr>\n",
       "    <tr>\n",
       "      <th>888</th>\n",
       "      <td>889</td>\n",
       "      <td>0</td>\n",
       "      <td>3</td>\n",
       "      <td>Johnston, Miss. Catherine Helen \"Carrie\"</td>\n",
       "      <td>female</td>\n",
       "      <td>NaN</td>\n",
       "      <td>1</td>\n",
       "      <td>2</td>\n",
       "      <td>W./C. 6607</td>\n",
       "      <td>23.4500</td>\n",
       "      <td>NaN</td>\n",
       "      <td>S</td>\n",
       "    </tr>\n",
       "    <tr>\n",
       "      <th>889</th>\n",
       "      <td>890</td>\n",
       "      <td>1</td>\n",
       "      <td>1</td>\n",
       "      <td>Behr, Mr. Karl Howell</td>\n",
       "      <td>male</td>\n",
       "      <td>26.0</td>\n",
       "      <td>0</td>\n",
       "      <td>0</td>\n",
       "      <td>111369</td>\n",
       "      <td>30.0000</td>\n",
       "      <td>C148</td>\n",
       "      <td>C</td>\n",
       "    </tr>\n",
       "    <tr>\n",
       "      <th>890</th>\n",
       "      <td>891</td>\n",
       "      <td>0</td>\n",
       "      <td>3</td>\n",
       "      <td>Dooley, Mr. Patrick</td>\n",
       "      <td>male</td>\n",
       "      <td>32.0</td>\n",
       "      <td>0</td>\n",
       "      <td>0</td>\n",
       "      <td>370376</td>\n",
       "      <td>7.7500</td>\n",
       "      <td>NaN</td>\n",
       "      <td>Q</td>\n",
       "    </tr>\n",
       "  </tbody>\n",
       "</table>\n",
       "<p>891 rows × 12 columns</p>\n",
       "</div>"
      ],
      "text/plain": [
       "     PassengerId  Survived  Pclass  \\\n",
       "0              1         0       3   \n",
       "1              2         1       1   \n",
       "2              3         1       3   \n",
       "3              4         1       1   \n",
       "4              5         0       3   \n",
       "..           ...       ...     ...   \n",
       "886          887         0       2   \n",
       "887          888         1       1   \n",
       "888          889         0       3   \n",
       "889          890         1       1   \n",
       "890          891         0       3   \n",
       "\n",
       "                                                  Name     Sex   Age  SibSp  \\\n",
       "0                              Braund, Mr. Owen Harris    male  22.0      1   \n",
       "1    Cumings, Mrs. John Bradley (Florence Briggs Th...  female  38.0      1   \n",
       "2                               Heikkinen, Miss. Laina  female  26.0      0   \n",
       "3         Futrelle, Mrs. Jacques Heath (Lily May Peel)  female  35.0      1   \n",
       "4                             Allen, Mr. William Henry    male  35.0      0   \n",
       "..                                                 ...     ...   ...    ...   \n",
       "886                              Montvila, Rev. Juozas    male  27.0      0   \n",
       "887                       Graham, Miss. Margaret Edith  female  19.0      0   \n",
       "888           Johnston, Miss. Catherine Helen \"Carrie\"  female   NaN      1   \n",
       "889                              Behr, Mr. Karl Howell    male  26.0      0   \n",
       "890                                Dooley, Mr. Patrick    male  32.0      0   \n",
       "\n",
       "     Parch            Ticket     Fare Cabin Embarked  \n",
       "0        0         A/5 21171   7.2500   NaN        S  \n",
       "1        0          PC 17599  71.2833   C85        C  \n",
       "2        0  STON/O2. 3101282   7.9250   NaN        S  \n",
       "3        0            113803  53.1000  C123        S  \n",
       "4        0            373450   8.0500   NaN        S  \n",
       "..     ...               ...      ...   ...      ...  \n",
       "886      0            211536  13.0000   NaN        S  \n",
       "887      0            112053  30.0000   B42        S  \n",
       "888      2        W./C. 6607  23.4500   NaN        S  \n",
       "889      0            111369  30.0000  C148        C  \n",
       "890      0            370376   7.7500   NaN        Q  \n",
       "\n",
       "[891 rows x 12 columns]"
      ]
     },
     "execution_count": 3,
     "metadata": {},
     "output_type": "execute_result"
    }
   ],
   "source": [
    "train0"
   ]
  },
  {
   "cell_type": "markdown",
   "id": "7bf5a18c",
   "metadata": {
    "papermill": {
     "duration": 0.025733,
     "end_time": "2022-05-15T12:57:38.670835",
     "exception": false,
     "start_time": "2022-05-15T12:57:38.645102",
     "status": "completed"
    },
    "tags": []
   },
   "source": [
    "# Cleaning"
   ]
  },
  {
   "cell_type": "code",
   "execution_count": 4,
   "id": "99835221",
   "metadata": {
    "execution": {
     "iopub.execute_input": "2022-05-15T12:57:38.723148Z",
     "iopub.status.busy": "2022-05-15T12:57:38.722786Z",
     "iopub.status.idle": "2022-05-15T12:57:38.734453Z",
     "shell.execute_reply": "2022-05-15T12:57:38.733579Z"
    },
    "papermill": {
     "duration": 0.040277,
     "end_time": "2022-05-15T12:57:38.736536",
     "exception": false,
     "start_time": "2022-05-15T12:57:38.696259",
     "status": "completed"
    },
    "tags": []
   },
   "outputs": [],
   "source": [
    "target = train0['Survived']\n",
    "train1 = train0.drop('Survived', axis=1)\n",
    "test1 = test0.copy()"
   ]
  },
  {
   "cell_type": "markdown",
   "id": "d4e9a940",
   "metadata": {
    "papermill": {
     "duration": 0.024908,
     "end_time": "2022-05-15T12:57:38.786887",
     "exception": false,
     "start_time": "2022-05-15T12:57:38.761979",
     "status": "completed"
    },
    "tags": []
   },
   "source": [
    "First we need to remove unnessery columns such as PassengerId, Name, Ticket, Cabin, Embarked\n",
    "and get numeric values sex column"
   ]
  },
  {
   "cell_type": "code",
   "execution_count": 5,
   "id": "b35c982a",
   "metadata": {
    "execution": {
     "iopub.execute_input": "2022-05-15T12:57:38.839212Z",
     "iopub.status.busy": "2022-05-15T12:57:38.838920Z",
     "iopub.status.idle": "2022-05-15T12:57:38.845851Z",
     "shell.execute_reply": "2022-05-15T12:57:38.844961Z"
    },
    "papermill": {
     "duration": 0.035419,
     "end_time": "2022-05-15T12:57:38.847808",
     "exception": false,
     "start_time": "2022-05-15T12:57:38.812389",
     "status": "completed"
    },
    "tags": []
   },
   "outputs": [],
   "source": [
    "train2 = train1.drop(['PassengerId', 'Name', 'Ticket', 'Cabin', 'Embarked'], axis=1)\n",
    "test2 = test1.drop(['PassengerId', 'Name', 'Ticket', 'Cabin', 'Embarked'], axis=1)\n"
   ]
  },
  {
   "cell_type": "markdown",
   "id": "2bb06e53",
   "metadata": {
    "papermill": {
     "duration": 0.026169,
     "end_time": "2022-05-15T12:57:38.901975",
     "exception": false,
     "start_time": "2022-05-15T12:57:38.875806",
     "status": "completed"
    },
    "tags": []
   },
   "source": [
    "Now we check Nan values"
   ]
  },
  {
   "cell_type": "code",
   "execution_count": 6,
   "id": "7b4c2840",
   "metadata": {
    "execution": {
     "iopub.execute_input": "2022-05-15T12:57:38.956137Z",
     "iopub.status.busy": "2022-05-15T12:57:38.955351Z",
     "iopub.status.idle": "2022-05-15T12:57:38.965509Z",
     "shell.execute_reply": "2022-05-15T12:57:38.964950Z"
    },
    "papermill": {
     "duration": 0.038893,
     "end_time": "2022-05-15T12:57:38.967275",
     "exception": false,
     "start_time": "2022-05-15T12:57:38.928382",
     "status": "completed"
    },
    "tags": []
   },
   "outputs": [
    {
     "data": {
      "text/plain": [
       "(Pclass      0\n",
       " Sex         0\n",
       " Age       177\n",
       " SibSp       0\n",
       " Parch       0\n",
       " Fare        0\n",
       " dtype: int64,\n",
       " Pclass     0\n",
       " Sex        0\n",
       " Age       86\n",
       " SibSp      0\n",
       " Parch      0\n",
       " Fare       1\n",
       " dtype: int64)"
      ]
     },
     "execution_count": 6,
     "metadata": {},
     "output_type": "execute_result"
    }
   ],
   "source": [
    "train2.isna().sum(), test2.isna().sum()"
   ]
  },
  {
   "cell_type": "code",
   "execution_count": 7,
   "id": "4ee616f6",
   "metadata": {
    "execution": {
     "iopub.execute_input": "2022-05-15T12:57:39.020790Z",
     "iopub.status.busy": "2022-05-15T12:57:39.020316Z",
     "iopub.status.idle": "2022-05-15T12:57:39.077265Z",
     "shell.execute_reply": "2022-05-15T12:57:39.076074Z"
    },
    "papermill": {
     "duration": 0.087875,
     "end_time": "2022-05-15T12:57:39.080875",
     "exception": false,
     "start_time": "2022-05-15T12:57:38.993000",
     "status": "completed"
    },
    "tags": []
   },
   "outputs": [],
   "source": [
    "\n",
    "knn = KNNImputer()\n",
    "test3 = test2.copy()\n",
    "train3 = train2.copy()\n",
    "\n",
    "train4 = pd.get_dummies(train3)\n",
    "test4 = pd.get_dummies(test3)\n",
    "\n",
    "transformed_train = knn.fit_transform(train4)\n",
    "transformed_test = knn.transform(test4)\n",
    "\n",
    "train5 = pd.DataFrame(transformed_train, columns=train4.columns, index=train4.index)\n",
    "test5 = pd.DataFrame(transformed_test, columns=test4.columns, index=test4.index)"
   ]
  },
  {
   "cell_type": "code",
   "execution_count": 8,
   "id": "064ab94e",
   "metadata": {
    "execution": {
     "iopub.execute_input": "2022-05-15T12:57:39.177781Z",
     "iopub.status.busy": "2022-05-15T12:57:39.177207Z",
     "iopub.status.idle": "2022-05-15T12:57:39.191542Z",
     "shell.execute_reply": "2022-05-15T12:57:39.190958Z"
    },
    "papermill": {
     "duration": 0.06498,
     "end_time": "2022-05-15T12:57:39.193422",
     "exception": false,
     "start_time": "2022-05-15T12:57:39.128442",
     "status": "completed"
    },
    "tags": []
   },
   "outputs": [
    {
     "data": {
      "text/plain": [
       "(Pclass        0\n",
       " Age           0\n",
       " SibSp         0\n",
       " Parch         0\n",
       " Fare          0\n",
       " Sex_female    0\n",
       " Sex_male      0\n",
       " dtype: int64,\n",
       " Pclass        0\n",
       " Age           0\n",
       " SibSp         0\n",
       " Parch         0\n",
       " Fare          0\n",
       " Sex_female    0\n",
       " Sex_male      0\n",
       " dtype: int64)"
      ]
     },
     "execution_count": 8,
     "metadata": {},
     "output_type": "execute_result"
    }
   ],
   "source": [
    "train5.isna().sum(), test5.isna().sum()"
   ]
  },
  {
   "cell_type": "markdown",
   "id": "898d7bb5",
   "metadata": {
    "papermill": {
     "duration": 0.027441,
     "end_time": "2022-05-15T12:57:39.248181",
     "exception": false,
     "start_time": "2022-05-15T12:57:39.220740",
     "status": "completed"
    },
    "tags": []
   },
   "source": [
    "# Feature engineering\n",
    "We are going to use unsupervised learning to create new feature namely KMeans"
   ]
  },
  {
   "cell_type": "code",
   "execution_count": 9,
   "id": "24d281c1",
   "metadata": {
    "execution": {
     "iopub.execute_input": "2022-05-15T12:57:39.304012Z",
     "iopub.status.busy": "2022-05-15T12:57:39.303531Z",
     "iopub.status.idle": "2022-05-15T12:57:39.312145Z",
     "shell.execute_reply": "2022-05-15T12:57:39.311368Z"
    },
    "papermill": {
     "duration": 0.038127,
     "end_time": "2022-05-15T12:57:39.314157",
     "exception": false,
     "start_time": "2022-05-15T12:57:39.276030",
     "status": "completed"
    },
    "tags": []
   },
   "outputs": [],
   "source": [
    "train6 = train5.copy()\n",
    "test6 = test5.copy()\n",
    "\n",
    "train6['Sex'] = train6['Sex_male']\n",
    "test6['Sex'] = test6['Sex_male']\n",
    "\n",
    "train6 = train6.drop(['Sex_male', 'Sex_female'], axis=1)\n",
    "test6 = test6.drop(['Sex_male', 'Sex_female'], axis=1)"
   ]
  },
  {
   "cell_type": "markdown",
   "id": "d3ab7746",
   "metadata": {
    "papermill": {
     "duration": 0.026682,
     "end_time": "2022-05-15T12:57:39.367145",
     "exception": false,
     "start_time": "2022-05-15T12:57:39.340463",
     "status": "completed"
    },
    "tags": []
   },
   "source": [
    "We are checking optimal ammount of clusters "
   ]
  },
  {
   "cell_type": "code",
   "execution_count": 10,
   "id": "20a1821e",
   "metadata": {
    "execution": {
     "iopub.execute_input": "2022-05-15T12:57:39.424309Z",
     "iopub.status.busy": "2022-05-15T12:57:39.423550Z",
     "iopub.status.idle": "2022-05-15T12:57:40.182734Z",
     "shell.execute_reply": "2022-05-15T12:57:40.181828Z"
    },
    "papermill": {
     "duration": 0.790358,
     "end_time": "2022-05-15T12:57:40.184928",
     "exception": false,
     "start_time": "2022-05-15T12:57:39.394570",
     "status": "completed"
    },
    "tags": []
   },
   "outputs": [
    {
     "data": {
      "image/png": "[encoded data removed]",
      "text/plain": [
       "<Figure size 432x288 with 1 Axes>"
      ]
     },
     "metadata": {},
     "output_type": "display_data"
    }
   ],
   "source": [
    "\n",
    "n = 10\n",
    "sse = []\n",
    "for i in range(1,n):\n",
    "    kmeans = KMeans(n_clusters=i, random_state=0)\n",
    "    kmeans.fit(train6[['Age', 'Fare']])\n",
    "    sse.append(kmeans.inertia_)\n",
    "    \n",
    "\n",
    "plt.style.use(\"fivethirtyeight\")\n",
    "plt.plot(range(1, n), sse)\n",
    "plt.xticks(range(1, n))\n",
    "plt.xlabel(\"Number of Clusters\")\n",
    "plt.ylabel(\"SSE\")\n",
    "plt.show()"
   ]
  },
  {
   "cell_type": "code",
   "execution_count": 11,
   "id": "8a214353",
   "metadata": {
    "execution": {
     "iopub.execute_input": "2022-05-15T12:57:40.241733Z",
     "iopub.status.busy": "2022-05-15T12:57:40.241174Z",
     "iopub.status.idle": "2022-05-15T12:57:40.300964Z",
     "shell.execute_reply": "2022-05-15T12:57:40.300287Z"
    },
    "papermill": {
     "duration": 0.090884,
     "end_time": "2022-05-15T12:57:40.303163",
     "exception": false,
     "start_time": "2022-05-15T12:57:40.212279",
     "status": "completed"
    },
    "tags": []
   },
   "outputs": [],
   "source": [
    "kmeans = KMeans(n_clusters=8, random_state=0)\n",
    "train_kmeans = kmeans.fit(train6[['Age', 'Fare']])\n",
    "train6['clusters'] = train_kmeans.labels_\n",
    "\n",
    "test_kmeans = kmeans.predict(test6[['Age', 'Fare']])\n",
    "test6['clusters'] = test_kmeans"
   ]
  },
  {
   "cell_type": "markdown",
   "id": "97e397e4",
   "metadata": {
    "papermill": {
     "duration": 0.027739,
     "end_time": "2022-05-15T12:57:40.359229",
     "exception": false,
     "start_time": "2022-05-15T12:57:40.331490",
     "status": "completed"
    },
    "tags": []
   },
   "source": [
    "Now lets check cluster distribution "
   ]
  },
  {
   "cell_type": "code",
   "execution_count": 12,
   "id": "f143e287",
   "metadata": {
    "execution": {
     "iopub.execute_input": "2022-05-15T12:57:40.416806Z",
     "iopub.status.busy": "2022-05-15T12:57:40.416249Z",
     "iopub.status.idle": "2022-05-15T12:57:40.703027Z",
     "shell.execute_reply": "2022-05-15T12:57:40.702128Z"
    },
    "papermill": {
     "duration": 0.318248,
     "end_time": "2022-05-15T12:57:40.705593",
     "exception": false,
     "start_time": "2022-05-15T12:57:40.387345",
     "status": "completed"
    },
    "tags": []
   },
   "outputs": [
    {
     "data": {
      "image/png": "[encoded data removed]",
      "text/plain": [
       "<Figure size 720x504 with 1 Axes>"
      ]
     },
     "metadata": {},
     "output_type": "display_data"
    }
   ],
   "source": [
    "\n",
    "fig, ax = plt.subplots(figsize=(10,7))\n",
    "for cluster in np.unique(train_kmeans.labels_):\n",
    "    plt.scatter(train6[\"Age\"][train6[\"clusters\"] == cluster], train6[\"Fare\"][train6[\"clusters\"] == cluster], \n",
    "             s=100, edgecolor='green',linestyle='--')"
   ]
  },
  {
   "cell_type": "code",
   "execution_count": 13,
   "id": "434da1bf",
   "metadata": {
    "execution": {
     "iopub.execute_input": "2022-05-15T12:57:40.768452Z",
     "iopub.status.busy": "2022-05-15T12:57:40.767742Z",
     "iopub.status.idle": "2022-05-15T12:57:40.777421Z",
     "shell.execute_reply": "2022-05-15T12:57:40.776794Z"
    },
    "papermill": {
     "duration": 0.042974,
     "end_time": "2022-05-15T12:57:40.779512",
     "exception": false,
     "start_time": "2022-05-15T12:57:40.736538",
     "status": "completed"
    },
    "tags": []
   },
   "outputs": [],
   "source": [
    "train_final = train6.drop(['Fare'], axis=1)\n",
    "test_final = test6.drop(['Fare'], axis=1)\n",
    "\n",
    "X_train, X_test, y_train, y_test = train_test_split(train_final, target, test_size=0.2, random_state=42)"
   ]
  },
  {
   "cell_type": "code",
   "execution_count": 14,
   "id": "3d15bcfa",
   "metadata": {
    "execution": {
     "iopub.execute_input": "2022-05-15T12:57:40.842747Z",
     "iopub.status.busy": "2022-05-15T12:57:40.842217Z",
     "iopub.status.idle": "2022-05-15T12:57:40.860679Z",
     "shell.execute_reply": "2022-05-15T12:57:40.860012Z"
    },
    "papermill": {
     "duration": 0.051786,
     "end_time": "2022-05-15T12:57:40.862581",
     "exception": false,
     "start_time": "2022-05-15T12:57:40.810795",
     "status": "completed"
    },
    "tags": []
   },
   "outputs": [
    {
     "data": {
      "text/html": [
       "<div>\n",
       "<style scoped>\n",
       "    .dataframe tbody tr th:only-of-type {\n",
       "        vertical-align: middle;\n",
       "    }\n",
       "\n",
       "    .dataframe tbody tr th {\n",
       "        vertical-align: top;\n",
       "    }\n",
       "\n",
       "    .dataframe thead th {\n",
       "        text-align: right;\n",
       "    }\n",
       "</style>\n",
       "<table border=\"1\" class=\"dataframe\">\n",
       "  <thead>\n",
       "    <tr style=\"text-align: right;\">\n",
       "      <th></th>\n",
       "      <th>Pclass</th>\n",
       "      <th>Age</th>\n",
       "      <th>SibSp</th>\n",
       "      <th>Parch</th>\n",
       "      <th>Sex</th>\n",
       "      <th>clusters</th>\n",
       "    </tr>\n",
       "  </thead>\n",
       "  <tbody>\n",
       "    <tr>\n",
       "      <th>0</th>\n",
       "      <td>3.0</td>\n",
       "      <td>22.0</td>\n",
       "      <td>1.0</td>\n",
       "      <td>0.0</td>\n",
       "      <td>1.0</td>\n",
       "      <td>0</td>\n",
       "    </tr>\n",
       "    <tr>\n",
       "      <th>1</th>\n",
       "      <td>1.0</td>\n",
       "      <td>38.0</td>\n",
       "      <td>1.0</td>\n",
       "      <td>0.0</td>\n",
       "      <td>0.0</td>\n",
       "      <td>3</td>\n",
       "    </tr>\n",
       "    <tr>\n",
       "      <th>2</th>\n",
       "      <td>3.0</td>\n",
       "      <td>26.0</td>\n",
       "      <td>0.0</td>\n",
       "      <td>0.0</td>\n",
       "      <td>0.0</td>\n",
       "      <td>0</td>\n",
       "    </tr>\n",
       "    <tr>\n",
       "      <th>3</th>\n",
       "      <td>1.0</td>\n",
       "      <td>35.0</td>\n",
       "      <td>1.0</td>\n",
       "      <td>0.0</td>\n",
       "      <td>0.0</td>\n",
       "      <td>3</td>\n",
       "    </tr>\n",
       "    <tr>\n",
       "      <th>4</th>\n",
       "      <td>3.0</td>\n",
       "      <td>35.0</td>\n",
       "      <td>0.0</td>\n",
       "      <td>0.0</td>\n",
       "      <td>1.0</td>\n",
       "      <td>0</td>\n",
       "    </tr>\n",
       "    <tr>\n",
       "      <th>...</th>\n",
       "      <td>...</td>\n",
       "      <td>...</td>\n",
       "      <td>...</td>\n",
       "      <td>...</td>\n",
       "      <td>...</td>\n",
       "      <td>...</td>\n",
       "    </tr>\n",
       "    <tr>\n",
       "      <th>886</th>\n",
       "      <td>2.0</td>\n",
       "      <td>27.0</td>\n",
       "      <td>0.0</td>\n",
       "      <td>0.0</td>\n",
       "      <td>1.0</td>\n",
       "      <td>0</td>\n",
       "    </tr>\n",
       "    <tr>\n",
       "      <th>887</th>\n",
       "      <td>1.0</td>\n",
       "      <td>19.0</td>\n",
       "      <td>0.0</td>\n",
       "      <td>0.0</td>\n",
       "      <td>0.0</td>\n",
       "      <td>6</td>\n",
       "    </tr>\n",
       "    <tr>\n",
       "      <th>888</th>\n",
       "      <td>3.0</td>\n",
       "      <td>20.4</td>\n",
       "      <td>1.0</td>\n",
       "      <td>2.0</td>\n",
       "      <td>0.0</td>\n",
       "      <td>6</td>\n",
       "    </tr>\n",
       "    <tr>\n",
       "      <th>889</th>\n",
       "      <td>1.0</td>\n",
       "      <td>26.0</td>\n",
       "      <td>0.0</td>\n",
       "      <td>0.0</td>\n",
       "      <td>1.0</td>\n",
       "      <td>6</td>\n",
       "    </tr>\n",
       "    <tr>\n",
       "      <th>890</th>\n",
       "      <td>3.0</td>\n",
       "      <td>32.0</td>\n",
       "      <td>0.0</td>\n",
       "      <td>0.0</td>\n",
       "      <td>1.0</td>\n",
       "      <td>0</td>\n",
       "    </tr>\n",
       "  </tbody>\n",
       "</table>\n",
       "<p>891 rows × 6 columns</p>\n",
       "</div>"
      ],
      "text/plain": [
       "     Pclass   Age  SibSp  Parch  Sex  clusters\n",
       "0       3.0  22.0    1.0    0.0  1.0         0\n",
       "1       1.0  38.0    1.0    0.0  0.0         3\n",
       "2       3.0  26.0    0.0    0.0  0.0         0\n",
       "3       1.0  35.0    1.0    0.0  0.0         3\n",
       "4       3.0  35.0    0.0    0.0  1.0         0\n",
       "..      ...   ...    ...    ...  ...       ...\n",
       "886     2.0  27.0    0.0    0.0  1.0         0\n",
       "887     1.0  19.0    0.0    0.0  0.0         6\n",
       "888     3.0  20.4    1.0    2.0  0.0         6\n",
       "889     1.0  26.0    0.0    0.0  1.0         6\n",
       "890     3.0  32.0    0.0    0.0  1.0         0\n",
       "\n",
       "[891 rows x 6 columns]"
      ]
     },
     "execution_count": 14,
     "metadata": {},
     "output_type": "execute_result"
    }
   ],
   "source": [
    "train_final"
   ]
  },
  {
   "cell_type": "code",
   "execution_count": 15,
   "id": "00c9648d",
   "metadata": {
    "execution": {
     "iopub.execute_input": "2022-05-15T12:57:40.926470Z",
     "iopub.status.busy": "2022-05-15T12:57:40.926071Z",
     "iopub.status.idle": "2022-05-15T12:57:40.943409Z",
     "shell.execute_reply": "2022-05-15T12:57:40.942511Z"
    },
    "papermill": {
     "duration": 0.051782,
     "end_time": "2022-05-15T12:57:40.945656",
     "exception": false,
     "start_time": "2022-05-15T12:57:40.893874",
     "status": "completed"
    },
    "tags": []
   },
   "outputs": [
    {
     "data": {
      "text/html": [
       "<div>\n",
       "<style scoped>\n",
       "    .dataframe tbody tr th:only-of-type {\n",
       "        vertical-align: middle;\n",
       "    }\n",
       "\n",
       "    .dataframe tbody tr th {\n",
       "        vertical-align: top;\n",
       "    }\n",
       "\n",
       "    .dataframe thead th {\n",
       "        text-align: right;\n",
       "    }\n",
       "</style>\n",
       "<table border=\"1\" class=\"dataframe\">\n",
       "  <thead>\n",
       "    <tr style=\"text-align: right;\">\n",
       "      <th></th>\n",
       "      <th>Pclass</th>\n",
       "      <th>Age</th>\n",
       "      <th>SibSp</th>\n",
       "      <th>Parch</th>\n",
       "      <th>Sex</th>\n",
       "      <th>clusters</th>\n",
       "    </tr>\n",
       "  </thead>\n",
       "  <tbody>\n",
       "    <tr>\n",
       "      <th>0</th>\n",
       "      <td>3.0</td>\n",
       "      <td>34.5</td>\n",
       "      <td>0.0</td>\n",
       "      <td>0.0</td>\n",
       "      <td>1.0</td>\n",
       "      <td>0</td>\n",
       "    </tr>\n",
       "    <tr>\n",
       "      <th>1</th>\n",
       "      <td>3.0</td>\n",
       "      <td>47.0</td>\n",
       "      <td>1.0</td>\n",
       "      <td>0.0</td>\n",
       "      <td>0.0</td>\n",
       "      <td>5</td>\n",
       "    </tr>\n",
       "    <tr>\n",
       "      <th>2</th>\n",
       "      <td>2.0</td>\n",
       "      <td>62.0</td>\n",
       "      <td>0.0</td>\n",
       "      <td>0.0</td>\n",
       "      <td>1.0</td>\n",
       "      <td>5</td>\n",
       "    </tr>\n",
       "    <tr>\n",
       "      <th>3</th>\n",
       "      <td>3.0</td>\n",
       "      <td>27.0</td>\n",
       "      <td>0.0</td>\n",
       "      <td>0.0</td>\n",
       "      <td>1.0</td>\n",
       "      <td>0</td>\n",
       "    </tr>\n",
       "    <tr>\n",
       "      <th>4</th>\n",
       "      <td>3.0</td>\n",
       "      <td>22.0</td>\n",
       "      <td>1.0</td>\n",
       "      <td>1.0</td>\n",
       "      <td>0.0</td>\n",
       "      <td>0</td>\n",
       "    </tr>\n",
       "    <tr>\n",
       "      <th>...</th>\n",
       "      <td>...</td>\n",
       "      <td>...</td>\n",
       "      <td>...</td>\n",
       "      <td>...</td>\n",
       "      <td>...</td>\n",
       "      <td>...</td>\n",
       "    </tr>\n",
       "    <tr>\n",
       "      <th>413</th>\n",
       "      <td>3.0</td>\n",
       "      <td>29.4</td>\n",
       "      <td>0.0</td>\n",
       "      <td>0.0</td>\n",
       "      <td>1.0</td>\n",
       "      <td>0</td>\n",
       "    </tr>\n",
       "    <tr>\n",
       "      <th>414</th>\n",
       "      <td>1.0</td>\n",
       "      <td>39.0</td>\n",
       "      <td>0.0</td>\n",
       "      <td>0.0</td>\n",
       "      <td>0.0</td>\n",
       "      <td>2</td>\n",
       "    </tr>\n",
       "    <tr>\n",
       "      <th>415</th>\n",
       "      <td>3.0</td>\n",
       "      <td>38.5</td>\n",
       "      <td>0.0</td>\n",
       "      <td>0.0</td>\n",
       "      <td>1.0</td>\n",
       "      <td>5</td>\n",
       "    </tr>\n",
       "    <tr>\n",
       "      <th>416</th>\n",
       "      <td>3.0</td>\n",
       "      <td>29.4</td>\n",
       "      <td>0.0</td>\n",
       "      <td>0.0</td>\n",
       "      <td>1.0</td>\n",
       "      <td>0</td>\n",
       "    </tr>\n",
       "    <tr>\n",
       "      <th>417</th>\n",
       "      <td>3.0</td>\n",
       "      <td>27.0</td>\n",
       "      <td>1.0</td>\n",
       "      <td>1.0</td>\n",
       "      <td>1.0</td>\n",
       "      <td>0</td>\n",
       "    </tr>\n",
       "  </tbody>\n",
       "</table>\n",
       "<p>418 rows × 6 columns</p>\n",
       "</div>"
      ],
      "text/plain": [
       "     Pclass   Age  SibSp  Parch  Sex  clusters\n",
       "0       3.0  34.5    0.0    0.0  1.0         0\n",
       "1       3.0  47.0    1.0    0.0  0.0         5\n",
       "2       2.0  62.0    0.0    0.0  1.0         5\n",
       "3       3.0  27.0    0.0    0.0  1.0         0\n",
       "4       3.0  22.0    1.0    1.0  0.0         0\n",
       "..      ...   ...    ...    ...  ...       ...\n",
       "413     3.0  29.4    0.0    0.0  1.0         0\n",
       "414     1.0  39.0    0.0    0.0  0.0         2\n",
       "415     3.0  38.5    0.0    0.0  1.0         5\n",
       "416     3.0  29.4    0.0    0.0  1.0         0\n",
       "417     3.0  27.0    1.0    1.0  1.0         0\n",
       "\n",
       "[418 rows x 6 columns]"
      ]
     },
     "execution_count": 15,
     "metadata": {},
     "output_type": "execute_result"
    }
   ],
   "source": [
    "test_final"
   ]
  },
  {
   "cell_type": "code",
   "execution_count": 16,
   "id": "cd7e9d31",
   "metadata": {
    "execution": {
     "iopub.execute_input": "2022-05-15T12:57:41.009188Z",
     "iopub.status.busy": "2022-05-15T12:57:41.008912Z",
     "iopub.status.idle": "2022-05-15T12:57:41.014179Z",
     "shell.execute_reply": "2022-05-15T12:57:41.013207Z"
    },
    "papermill": {
     "duration": 0.039149,
     "end_time": "2022-05-15T12:57:41.016003",
     "exception": false,
     "start_time": "2022-05-15T12:57:40.976854",
     "status": "completed"
    },
    "tags": []
   },
   "outputs": [],
   "source": [
    "models = {\n",
    "    \"svc\": SVC(),\n",
    "    \"gnb\": GaussianNB(),\n",
    "    \"dtc\": DecisionTreeClassifier(),\n",
    "    \"knc\": KNeighborsClassifier(),\n",
    "    \"lr\": LogisticRegression(max_iter=200),\n",
    "    \"lda\": LinearDiscriminantAnalysis(),\n",
    "    \"rfc\": RandomForestClassifier(),\n",
    "}"
   ]
  },
  {
   "cell_type": "code",
   "execution_count": 17,
   "id": "f87e1abc",
   "metadata": {
    "execution": {
     "iopub.execute_input": "2022-05-15T12:57:41.079857Z",
     "iopub.status.busy": "2022-05-15T12:57:41.079582Z",
     "iopub.status.idle": "2022-05-15T12:57:41.409926Z",
     "shell.execute_reply": "2022-05-15T12:57:41.408305Z"
    },
    "papermill": {
     "duration": 0.364576,
     "end_time": "2022-05-15T12:57:41.412110",
     "exception": false,
     "start_time": "2022-05-15T12:57:41.047534",
     "status": "completed"
    },
    "tags": []
   },
   "outputs": [
    {
     "name": "stdout",
     "output_type": "stream",
     "text": [
      "svc: 0.6145251396648045\n",
      "gnb: 0.7821229050279329\n",
      "dtc: 0.7877094972067039\n",
      "knc: 0.7262569832402235\n",
      "lr: 0.8379888268156425\n",
      "lda: 0.7988826815642458\n",
      "rfc: 0.8156424581005587\n"
     ]
    }
   ],
   "source": [
    "for name, model in models.items():\n",
    "    model.fit(X_train, y_train)\n",
    "    pred = model.predict(X_test)\n",
    "    result = accuracy_score(y_test, pred)\n",
    "    print(f'{name}: {result}')"
   ]
  },
  {
   "cell_type": "code",
   "execution_count": 18,
   "id": "be31344c",
   "metadata": {
    "execution": {
     "iopub.execute_input": "2022-05-15T12:57:41.477285Z",
     "iopub.status.busy": "2022-05-15T12:57:41.477007Z",
     "iopub.status.idle": "2022-05-15T12:57:41.509753Z",
     "shell.execute_reply": "2022-05-15T12:57:41.509023Z"
    },
    "papermill": {
     "duration": 0.068105,
     "end_time": "2022-05-15T12:57:41.512051",
     "exception": false,
     "start_time": "2022-05-15T12:57:41.443946",
     "status": "completed"
    },
    "tags": []
   },
   "outputs": [],
   "source": [
    "model = LogisticRegression(max_iter=200)\n",
    "model.fit(X_train, y_train)\n",
    "\n",
    "pred = model.predict(test_final)\n",
    "submission = pd.concat([test0['PassengerId'], pd.DataFrame(pred, columns=['Survived'])], axis=1)\n",
    "submission.to_csv('submission.csv', index=False)"
   ]
  },
  {
   "cell_type": "code",
   "execution_count": null,
   "id": "8e0566e6",
   "metadata": {
    "papermill": {
     "duration": 0.032423,
     "end_time": "2022-05-15T12:57:41.577682",
     "exception": false,
     "start_time": "2022-05-15T12:57:41.545259",
     "status": "completed"
    },
    "tags": []
   },
   "outputs": [],
   "source": []
  },
  {
   "cell_type": "code",
   "execution_count": null,
   "id": "acfe9120",
   "metadata": {
    "papermill": {
     "duration": 0.032054,
     "end_time": "2022-05-15T12:57:41.641578",
     "exception": false,
     "start_time": "2022-05-15T12:57:41.609524",
     "status": "completed"
    },
    "tags": []
   },
   "outputs": [],
   "source": []
  }
 ],
 "metadata": {
  "kernelspec": {
   "display_name": "Python 3 (ipykernel)",
   "language": "python",
   "name": "python3"
  },
  "language_info": {
   "codemirror_mode": {
    "name": "ipython",
    "version": 3
   },
   "file_extension": ".py",
   "mimetype": "text/x-python",
   "name": "python",
   "nbconvert_exporter": "python",
   "pygments_lexer": "ipython3",
   "version": "3.9.7"
  },
  "papermill": {
   "default_parameters": {},
   "duration": 16.154751,
   "end_time": "2022-05-15T12:57:42.496312",
   "environment_variables": {},
   "exception": null,
   "input_path": "__notebook__.ipynb",
   "output_path": "__notebook__.ipynb",
   "parameters": {},
   "start_time": "2022-05-15T12:57:26.341561",
   "version": "2.3.4"
  }
 },
 "nbformat": 4,
 "nbformat_minor": 5
}
