{
 "cells": [
  {
   "cell_type": "code",
   "execution_count": 1,
   "id": "17273ba5",
   "metadata": {
    "_cell_guid": "b1076dfc-b9ad-4769-8c92-a6c4dae69d19",
    "_uuid": "8f2839f25d086af736a60e9eeb907d3b93b6e0e5",
    "execution": {
     "iopub.execute_input": "2022-05-15T17:22:33.102044Z",
     "iopub.status.busy": "2022-05-15T17:22:33.101367Z",
     "iopub.status.idle": "2022-05-15T17:22:33.115683Z",
     "shell.execute_reply": "2022-05-15T17:22:33.114829Z"
    },
    "papermill": {
     "duration": 0.036128,
     "end_time": "2022-05-15T17:22:33.118648",
     "exception": false,
     "start_time": "2022-05-15T17:22:33.082520",
     "status": "completed"
    },
    "tags": []
   },
   "outputs": [
    {
     "name": "stdout",
     "output_type": "stream",
     "text": [
      "/kaggle/input/digit-recognizer/sample_submission.csv\n",
      "/kaggle/input/digit-recognizer/train.csv\n",
      "/kaggle/input/digit-recognizer/test.csv\n"
     ]
    }
   ],
   "source": [
    "# This Python 3 environment comes with many helpful analytics libraries installed\n",
    "# It is defined by the kaggle/python Docker image: https://github.com/kaggle/docker-python\n",
    "# For example, here's several helpful packages to load\n",
    "\n",
    "import numpy as np # linear algebra\n",
    "import pandas as pd # data processing, CSV file I/O (e.g. pd.read_csv)\n",
    "\n",
    "# Input data files are available in the read-only \"../input/\" directory\n",
    "# For example, running this (by clicking run or pressing Shift+Enter) will list all files under the input directory\n",
    "\n",
    "import os\n",
    "for dirname, _, filenames in os.walk('/kaggle/input'):\n",
    "    for filename in filenames:\n",
    "        print(os.path.join(dirname, filename))\n",
    "\n",
    "# You can write up to 20GB to the current directory (/kaggle/working/) that gets preserved as output when you create a version using \"Save & Run All\" \n",
    "# You can also write temporary files to /kaggle/temp/, but they won't be saved outside of the current session"
   ]
  },
  {
   "cell_type": "code",
   "execution_count": 2,
   "id": "4dbd62ff",
   "metadata": {
    "execution": {
     "iopub.execute_input": "2022-05-15T17:22:33.167488Z",
     "iopub.status.busy": "2022-05-15T17:22:33.165341Z",
     "iopub.status.idle": "2022-05-15T17:22:39.720211Z",
     "shell.execute_reply": "2022-05-15T17:22:39.719367Z"
    },
    "papermill": {
     "duration": 6.58682,
     "end_time": "2022-05-15T17:22:39.722518",
     "exception": false,
     "start_time": "2022-05-15T17:22:33.135698",
     "status": "completed"
    },
    "tags": []
   },
   "outputs": [],
   "source": [
    "from tensorflow import keras \n",
    "from tensorflow.keras import layers\n",
    "import tensorflow as tf\n",
    "from sklearn.model_selection import train_test_split \n",
    "import matplotlib.pyplot as plt\n",
    "\n"
   ]
  },
  {
   "cell_type": "code",
   "execution_count": 3,
   "id": "12245ca7",
   "metadata": {
    "execution": {
     "iopub.execute_input": "2022-05-15T17:22:39.756719Z",
     "iopub.status.busy": "2022-05-15T17:22:39.756212Z",
     "iopub.status.idle": "2022-05-15T17:22:45.501374Z",
     "shell.execute_reply": "2022-05-15T17:22:45.500399Z"
    },
    "papermill": {
     "duration": 5.764873,
     "end_time": "2022-05-15T17:22:45.503657",
     "exception": false,
     "start_time": "2022-05-15T17:22:39.738784",
     "status": "completed"
    },
    "tags": []
   },
   "outputs": [],
   "source": [
    "train = pd.read_csv('/kaggle/input/digit-recognizer/train.csv')\n",
    "test = pd.read_csv('/kaggle/input/digit-recognizer/test.csv')\n",
    "#print(train)\n",
    "#print(test)"
   ]
  },
  {
   "cell_type": "code",
   "execution_count": 4,
   "id": "8c6b81b0",
   "metadata": {
    "execution": {
     "iopub.execute_input": "2022-05-15T17:22:45.541768Z",
     "iopub.status.busy": "2022-05-15T17:22:45.541319Z",
     "iopub.status.idle": "2022-05-15T17:22:48.925151Z",
     "shell.execute_reply": "2022-05-15T17:22:48.924390Z"
    },
    "papermill": {
     "duration": 3.405185,
     "end_time": "2022-05-15T17:22:48.927260",
     "exception": false,
     "start_time": "2022-05-15T17:22:45.522075",
     "status": "completed"
    },
    "tags": []
   },
   "outputs": [
    {
     "name": "stderr",
     "output_type": "stream",
     "text": [
      "2022-05-15 17:22:45.694143: I tensorflow/stream_executor/cuda/cuda_gpu_executor.cc:937] successful NUMA node read from SysFS had negative value (-1), but there must be at least one NUMA node, so returning NUMA node zero\n",
      "2022-05-15 17:22:45.811882: I tensorflow/stream_executor/cuda/cuda_gpu_executor.cc:937] successful NUMA node read from SysFS had negative value (-1), but there must be at least one NUMA node, so returning NUMA node zero\n",
      "2022-05-15 17:22:45.812797: I tensorflow/stream_executor/cuda/cuda_gpu_executor.cc:937] successful NUMA node read from SysFS had negative value (-1), but there must be at least one NUMA node, so returning NUMA node zero\n",
      "2022-05-15 17:22:45.815398: I tensorflow/core/platform/cpu_feature_guard.cc:142] This TensorFlow binary is optimized with oneAPI Deep Neural Network Library (oneDNN) to use the following CPU instructions in performance-critical operations:  AVX2 AVX512F FMA\n",
      "To enable them in other operations, rebuild TensorFlow with the appropriate compiler flags.\n",
      "2022-05-15 17:22:45.815700: I tensorflow/stream_executor/cuda/cuda_gpu_executor.cc:937] successful NUMA node read from SysFS had negative value (-1), but there must be at least one NUMA node, so returning NUMA node zero\n",
      "2022-05-15 17:22:45.816511: I tensorflow/stream_executor/cuda/cuda_gpu_executor.cc:937] successful NUMA node read from SysFS had negative value (-1), but there must be at least one NUMA node, so returning NUMA node zero\n",
      "2022-05-15 17:22:45.817340: I tensorflow/stream_executor/cuda/cuda_gpu_executor.cc:937] successful NUMA node read from SysFS had negative value (-1), but there must be at least one NUMA node, so returning NUMA node zero\n",
      "2022-05-15 17:22:47.984233: I tensorflow/stream_executor/cuda/cuda_gpu_executor.cc:937] successful NUMA node read from SysFS had negative value (-1), but there must be at least one NUMA node, so returning NUMA node zero\n",
      "2022-05-15 17:22:47.985268: I tensorflow/stream_executor/cuda/cuda_gpu_executor.cc:937] successful NUMA node read from SysFS had negative value (-1), but there must be at least one NUMA node, so returning NUMA node zero\n",
      "2022-05-15 17:22:47.985999: I tensorflow/stream_executor/cuda/cuda_gpu_executor.cc:937] successful NUMA node read from SysFS had negative value (-1), but there must be at least one NUMA node, so returning NUMA node zero\n",
      "2022-05-15 17:22:47.987379: I tensorflow/core/common_runtime/gpu/gpu_device.cc:1510] Created device /job:localhost/replica:0/task:0/device:GPU:0 with 15403 MB memory:  -> device: 0, name: Tesla P100-PCIE-16GB, pci bus id: 0000:00:04.0, compute capability: 6.0\n"
     ]
    }
   ],
   "source": [
    "Y = train['label']\n",
    "X = train.drop(['label'], axis=1)\n",
    "X = tf.convert_to_tensor(X)\n",
    "y = tf.convert_to_tensor(Y)\n",
    "Xtest =tf.convert_to_tensor(test)"
   ]
  },
  {
   "cell_type": "code",
   "execution_count": 5,
   "id": "14df1ed8",
   "metadata": {
    "execution": {
     "iopub.execute_input": "2022-05-15T17:22:48.961493Z",
     "iopub.status.busy": "2022-05-15T17:22:48.960868Z",
     "iopub.status.idle": "2022-05-15T17:22:48.969356Z",
     "shell.execute_reply": "2022-05-15T17:22:48.968495Z"
    },
    "papermill": {
     "duration": 0.028256,
     "end_time": "2022-05-15T17:22:48.971899",
     "exception": false,
     "start_time": "2022-05-15T17:22:48.943643",
     "status": "completed"
    },
    "tags": []
   },
   "outputs": [
    {
     "name": "stdout",
     "output_type": "stream",
     "text": [
      "[[   0 4132]\n",
      " [   1 4684]\n",
      " [   2 4177]\n",
      " [   3 4351]\n",
      " [   4 4072]\n",
      " [   5 3795]\n",
      " [   6 4137]\n",
      " [   7 4401]\n",
      " [   8 4063]\n",
      " [   9 4188]]\n"
     ]
    }
   ],
   "source": [
    "unique, counts = np.unique(np.array(y), return_counts=True)#understand distribution of y_train so as to choose metric for classification\n",
    "#As the distribution of y_train in this dataset is somewhat uniform we can use accuarcy as evaluation metric \n",
    "print (np.asarray((unique, counts)).T)"
   ]
  },
  {
   "cell_type": "code",
   "execution_count": 6,
   "id": "40754c68",
   "metadata": {
    "execution": {
     "iopub.execute_input": "2022-05-15T17:22:49.006506Z",
     "iopub.status.busy": "2022-05-15T17:22:49.006267Z",
     "iopub.status.idle": "2022-05-15T17:22:49.120896Z",
     "shell.execute_reply": "2022-05-15T17:22:49.119039Z"
    },
    "papermill": {
     "duration": 0.133906,
     "end_time": "2022-05-15T17:22:49.122958",
     "exception": false,
     "start_time": "2022-05-15T17:22:48.989052",
     "status": "completed"
    },
    "tags": []
   },
   "outputs": [
    {
     "name": "stdout",
     "output_type": "stream",
     "text": [
      "tf.Tensor(\n",
      "[[0. 0. 0. ... 0. 0. 0.]\n",
      " [0. 0. 0. ... 0. 0. 0.]\n",
      " [0. 0. 0. ... 0. 0. 0.]\n",
      " ...\n",
      " [0. 0. 0. ... 0. 0. 0.]\n",
      " [0. 0. 0. ... 0. 0. 0.]\n",
      " [0. 0. 0. ... 0. 0. 0.]], shape=(42000, 784), dtype=float32)\n"
     ]
    }
   ],
   "source": [
    "X = tf.cast(X,float)\n",
    "shape = tf.shape( X ) # get dynamic tensor shape\n",
    "X = X/255.0\n",
    "print(X)\n",
    "Xtest = tf.cast(Xtest,float)\n",
    "Xtest = Xtest/255.0"
   ]
  },
  {
   "cell_type": "code",
   "execution_count": 7,
   "id": "56e53098",
   "metadata": {
    "execution": {
     "iopub.execute_input": "2022-05-15T17:22:49.160709Z",
     "iopub.status.busy": "2022-05-15T17:22:49.160156Z",
     "iopub.status.idle": "2022-05-15T17:22:49.425528Z",
     "shell.execute_reply": "2022-05-15T17:22:49.424679Z"
    },
    "papermill": {
     "duration": 0.286074,
     "end_time": "2022-05-15T17:22:49.427408",
     "exception": false,
     "start_time": "2022-05-15T17:22:49.141334",
     "status": "completed"
    },
    "tags": []
   },
   "outputs": [
    {
     "name": "stdout",
     "output_type": "stream",
     "text": [
      "(8400, 784)\n",
      "(23520, 784)\n",
      "(10080, 784)\n"
     ]
    }
   ],
   "source": [
    "X_train, X_cv, y_train, y_cv = train_test_split(X.numpy(), y.numpy(), test_size=0.20, random_state=42)\n",
    "X_train, X_test, y_train, y_test = train_test_split(X_train, y_train, test_size=0.30, random_state=42)\n",
    "X_train, X_cv= tf.constant(X_train), tf.constant(X_cv)\n",
    "y_train, y_cv = tf.constant(y_train), tf.constant(y_cv)\n",
    "X_test, y_test = tf.constant(X_test), tf.constant(y_test)\n",
    "print(X_cv.shape)\n",
    "print(X_train.shape)\n",
    "print(X_test.shape)"
   ]
  },
  {
   "cell_type": "code",
   "execution_count": 8,
   "id": "64d20caf",
   "metadata": {
    "execution": {
     "iopub.execute_input": "2022-05-15T17:22:49.465042Z",
     "iopub.status.busy": "2022-05-15T17:22:49.464276Z",
     "iopub.status.idle": "2022-05-15T17:22:49.468876Z",
     "shell.execute_reply": "2022-05-15T17:22:49.468139Z"
    },
    "papermill": {
     "duration": 0.025846,
     "end_time": "2022-05-15T17:22:49.470526",
     "exception": false,
     "start_time": "2022-05-15T17:22:49.444680",
     "status": "completed"
    },
    "tags": []
   },
   "outputs": [],
   "source": [
    "lr_schedule = keras.optimizers.schedules.ExponentialDecay(initial_learning_rate=1e-2,decay_steps=100000,decay_rate=0.8)"
   ]
  },
  {
   "cell_type": "code",
   "execution_count": 9,
   "id": "97aa1261",
   "metadata": {
    "execution": {
     "iopub.execute_input": "2022-05-15T17:22:49.505720Z",
     "iopub.status.busy": "2022-05-15T17:22:49.505514Z",
     "iopub.status.idle": "2022-05-15T17:23:36.562541Z",
     "shell.execute_reply": "2022-05-15T17:23:36.561755Z"
    },
    "papermill": {
     "duration": 47.077482,
     "end_time": "2022-05-15T17:23:36.565016",
     "exception": false,
     "start_time": "2022-05-15T17:22:49.487534",
     "status": "completed"
    },
    "tags": []
   },
   "outputs": [
    {
     "name": "stdout",
     "output_type": "stream",
     "text": [
      "Dropout:  0.09\n"
     ]
    },
    {
     "name": "stderr",
     "output_type": "stream",
     "text": [
      "2022-05-15 17:22:49.713059: I tensorflow/compiler/mlir/mlir_graph_optimization_pass.cc:185] None of the MLIR Optimization Passes are enabled (registered 2)\n"
     ]
    },
    {
     "name": "stdout",
     "output_type": "stream",
     "text": [
      "Epoch 1/10\n",
      "263/263 [==============================] - 3s 5ms/step - loss: 0.4865 - accuracy: 0.8479\n",
      "Epoch 2/10\n",
      "263/263 [==============================] - 1s 4ms/step - loss: 0.2105 - accuracy: 0.9357\n",
      "Epoch 3/10\n",
      "263/263 [==============================] - 1s 4ms/step - loss: 0.1393 - accuracy: 0.9563\n",
      "Epoch 4/10\n",
      "263/263 [==============================] - 1s 4ms/step - loss: 0.1210 - accuracy: 0.9619\n",
      "Epoch 5/10\n",
      "263/263 [==============================] - 1s 4ms/step - loss: 0.1042 - accuracy: 0.9644\n",
      "Epoch 6/10\n",
      "263/263 [==============================] - 1s 4ms/step - loss: 0.0851 - accuracy: 0.9724\n",
      "Epoch 7/10\n",
      "263/263 [==============================] - 1s 4ms/step - loss: 0.0767 - accuracy: 0.9746\n",
      "Epoch 8/10\n",
      "263/263 [==============================] - 1s 4ms/step - loss: 0.0748 - accuracy: 0.9756\n",
      "Epoch 9/10\n",
      "263/263 [==============================] - 1s 4ms/step - loss: 0.0739 - accuracy: 0.9751\n",
      "Epoch 10/10\n",
      "263/263 [==============================] - 1s 4ms/step - loss: 0.0628 - accuracy: 0.9788\n",
      "Dropout:  0.1\n",
      "Epoch 1/10\n",
      "263/263 [==============================] - 2s 4ms/step - loss: 0.5088 - accuracy: 0.8427\n",
      "Epoch 2/10\n",
      "263/263 [==============================] - 1s 4ms/step - loss: 0.2222 - accuracy: 0.9279\n",
      "Epoch 3/10\n",
      "263/263 [==============================] - 1s 4ms/step - loss: 0.1567 - accuracy: 0.9515\n",
      "Epoch 4/10\n",
      "263/263 [==============================] - 1s 4ms/step - loss: 0.1308 - accuracy: 0.9564\n",
      "Epoch 5/10\n",
      "263/263 [==============================] - 1s 5ms/step - loss: 0.1087 - accuracy: 0.9645\n",
      "Epoch 6/10\n",
      "263/263 [==============================] - 1s 4ms/step - loss: 0.0926 - accuracy: 0.9689\n",
      "Epoch 7/10\n",
      "263/263 [==============================] - 1s 4ms/step - loss: 0.0767 - accuracy: 0.9764\n",
      "Epoch 8/10\n",
      "263/263 [==============================] - 1s 4ms/step - loss: 0.0783 - accuracy: 0.9742\n",
      "Epoch 9/10\n",
      "263/263 [==============================] - 1s 4ms/step - loss: 0.0714 - accuracy: 0.9768\n",
      "Epoch 10/10\n",
      "263/263 [==============================] - 1s 4ms/step - loss: 0.0703 - accuracy: 0.9780\n",
      "Dropout:  0.15\n",
      "Epoch 1/10\n",
      "263/263 [==============================] - 2s 4ms/step - loss: 0.5136 - accuracy: 0.8444\n",
      "Epoch 2/10\n",
      "263/263 [==============================] - 1s 4ms/step - loss: 0.2495 - accuracy: 0.9220\n",
      "Epoch 3/10\n",
      "263/263 [==============================] - 1s 6ms/step - loss: 0.1763 - accuracy: 0.9412\n",
      "Epoch 4/10\n",
      "263/263 [==============================] - 1s 4ms/step - loss: 0.1410 - accuracy: 0.9543\n",
      "Epoch 5/10\n",
      "263/263 [==============================] - 1s 5ms/step - loss: 0.1192 - accuracy: 0.9619\n",
      "Epoch 6/10\n",
      "263/263 [==============================] - 1s 4ms/step - loss: 0.1068 - accuracy: 0.9637\n",
      "Epoch 7/10\n",
      "263/263 [==============================] - 1s 4ms/step - loss: 0.1013 - accuracy: 0.9664\n",
      "Epoch 8/10\n",
      "263/263 [==============================] - 1s 4ms/step - loss: 0.0821 - accuracy: 0.9731\n",
      "Epoch 9/10\n",
      "263/263 [==============================] - 1s 5ms/step - loss: 0.0833 - accuracy: 0.9704\n",
      "Epoch 10/10\n",
      "263/263 [==============================] - 1s 4ms/step - loss: 0.0717 - accuracy: 0.9764\n",
      "Dropout:  0.18\n",
      "Epoch 1/10\n",
      "263/263 [==============================] - 2s 4ms/step - loss: 0.5630 - accuracy: 0.8252\n",
      "Epoch 2/10\n",
      "263/263 [==============================] - 1s 4ms/step - loss: 0.2657 - accuracy: 0.9175\n",
      "Epoch 3/10\n",
      "263/263 [==============================] - 1s 4ms/step - loss: 0.2033 - accuracy: 0.9356\n",
      "Epoch 4/10\n",
      "263/263 [==============================] - 1s 4ms/step - loss: 0.1621 - accuracy: 0.9457\n",
      "Epoch 5/10\n",
      "263/263 [==============================] - 1s 4ms/step - loss: 0.1364 - accuracy: 0.9555\n",
      "Epoch 6/10\n",
      "263/263 [==============================] - 1s 4ms/step - loss: 0.1138 - accuracy: 0.9605\n",
      "Epoch 7/10\n",
      "263/263 [==============================] - 1s 4ms/step - loss: 0.1052 - accuracy: 0.9650\n",
      "Epoch 8/10\n",
      "263/263 [==============================] - 1s 4ms/step - loss: 0.1020 - accuracy: 0.9649\n",
      "Epoch 9/10\n",
      "263/263 [==============================] - 1s 4ms/step - loss: 0.0924 - accuracy: 0.9694\n",
      "Epoch 10/10\n",
      "263/263 [==============================] - 1s 4ms/step - loss: 0.0764 - accuracy: 0.9757\n"
     ]
    }
   ],
   "source": [
    "initializer1 = tf.keras.initializers.GlorotNormal()#Glorot Normal initializer/Xavier initialization works better for sigmoid layers\n",
    "initializer2 = tf.keras.initializers.HeNormal()#He initalizer works better for Relu layers\n",
    "#In general if we add more sigmoid layers to our neural network then its accuracy decreases as number of sigmoid layers increase\n",
    "#Instead use relu layers or tanh activations\n",
    "#Create a deep neural network using keras library \n",
    "# We can use dropout and Batch Normalization also\n",
    "#optimiser adam is best as compared to gradient descent or rms-prop \n",
    "dropouts = [0.09,0.1,0.15,0.18]\n",
    "for d in dropouts:\n",
    "    print(\"Dropout: \",d)\n",
    "    model = tf.keras.Sequential([\n",
    "    keras.layers.InputLayer(784),\n",
    "    layers.Dense(512,activation =\"relu\" ,name =\"first_hidden_layer\" , kernel_initializer = initializer2),\n",
    "    layers.BatchNormalization(),\n",
    "    layers.Dropout(d),\n",
    "    layers.Dense(200,activation =\"relu\" ,name =\"second_hidden_layer\" , kernel_initializer = initializer2),\n",
    "    layers.BatchNormalization(),\n",
    "    layers.Dropout(d),\n",
    "    layers.Dense(128,activation =\"relu\" ,name =\"third_hidden_layer\" , kernel_initializer = initializer2),\n",
    "    layers.BatchNormalization(),\n",
    "    layers.Dropout(d),\n",
    "    layers.Dense(10,activation =\"softmax\" ,name =\"output_layer\" , kernel_initializer = initializer1)])\n",
    "    model.compile(\n",
    "    loss=keras.losses.SparseCategoricalCrossentropy(), \n",
    "    optimizer=keras.optimizers.Adam(learning_rate=0.001),\n",
    "    metrics=[\"accuracy\"])\n",
    "    model.fit(X_cv, y_cv, batch_size=32, epochs=10, verbose=1)"
   ]
  },
  {
   "cell_type": "code",
   "execution_count": 10,
   "id": "360facbd",
   "metadata": {
    "execution": {
     "iopub.execute_input": "2022-05-15T17:23:37.144569Z",
     "iopub.status.busy": "2022-05-15T17:23:37.143978Z",
     "iopub.status.idle": "2022-05-15T17:23:37.224042Z",
     "shell.execute_reply": "2022-05-15T17:23:37.223269Z"
    },
    "papermill": {
     "duration": 0.37092,
     "end_time": "2022-05-15T17:23:37.226322",
     "exception": false,
     "start_time": "2022-05-15T17:23:36.855402",
     "status": "completed"
    },
    "tags": []
   },
   "outputs": [],
   "source": [
    "d =0.1 \n",
    "model = tf.keras.Sequential([\n",
    "    keras.layers.InputLayer(784),\n",
    "    layers.Dense(512,activation =\"relu\" ,name =\"first_hidden_layer\" , kernel_initializer = initializer2),\n",
    "    layers.BatchNormalization(),\n",
    "    layers.Dropout(d),\n",
    "    layers.Dense(256,activation =\"relu\" ,name =\"second_hidden_layer\" , kernel_initializer = initializer2),\n",
    "    layers.BatchNormalization(),\n",
    "    layers.Dropout(d),\n",
    "    layers.Dense(64,activation =\"relu\" ,name =\"third_hidden_layer\" , kernel_initializer = initializer2),\n",
    "    layers.BatchNormalization(),\n",
    "    layers.Dropout(d),\n",
    "    layers.Dense(10,activation =\"softmax\" ,name =\"output_layer\" , kernel_initializer = initializer1)])"
   ]
  },
  {
   "cell_type": "code",
   "execution_count": 11,
   "id": "a5b150e0",
   "metadata": {
    "execution": {
     "iopub.execute_input": "2022-05-15T17:23:37.824678Z",
     "iopub.status.busy": "2022-05-15T17:23:37.824422Z",
     "iopub.status.idle": "2022-05-15T17:23:37.836341Z",
     "shell.execute_reply": "2022-05-15T17:23:37.835566Z"
    },
    "papermill": {
     "duration": 0.313247,
     "end_time": "2022-05-15T17:23:37.838191",
     "exception": false,
     "start_time": "2022-05-15T17:23:37.524944",
     "status": "completed"
    },
    "tags": []
   },
   "outputs": [
    {
     "name": "stdout",
     "output_type": "stream",
     "text": [
      "Model: \"sequential_4\"\n",
      "_________________________________________________________________\n",
      "Layer (type)                 Output Shape              Param #   \n",
      "=================================================================\n",
      "first_hidden_layer (Dense)   (None, 512)               401920    \n",
      "_________________________________________________________________\n",
      "batch_normalization_12 (Batc (None, 512)               2048      \n",
      "_________________________________________________________________\n",
      "dropout_12 (Dropout)         (None, 512)               0         \n",
      "_________________________________________________________________\n",
      "second_hidden_layer (Dense)  (None, 256)               131328    \n",
      "_________________________________________________________________\n",
      "batch_normalization_13 (Batc (None, 256)               1024      \n",
      "_________________________________________________________________\n",
      "dropout_13 (Dropout)         (None, 256)               0         \n",
      "_________________________________________________________________\n",
      "third_hidden_layer (Dense)   (None, 64)                16448     \n",
      "_________________________________________________________________\n",
      "batch_normalization_14 (Batc (None, 64)                256       \n",
      "_________________________________________________________________\n",
      "dropout_14 (Dropout)         (None, 64)                0         \n",
      "_________________________________________________________________\n",
      "output_layer (Dense)         (None, 10)                650       \n",
      "=================================================================\n",
      "Total params: 553,674\n",
      "Trainable params: 552,010\n",
      "Non-trainable params: 1,664\n",
      "_________________________________________________________________\n"
     ]
    }
   ],
   "source": [
    "model.summary()"
   ]
  },
  {
   "cell_type": "code",
   "execution_count": 12,
   "id": "54760c85",
   "metadata": {
    "execution": {
     "iopub.execute_input": "2022-05-15T17:23:38.410588Z",
     "iopub.status.busy": "2022-05-15T17:23:38.410336Z",
     "iopub.status.idle": "2022-05-15T17:23:38.419582Z",
     "shell.execute_reply": "2022-05-15T17:23:38.418883Z"
    },
    "papermill": {
     "duration": 0.295616,
     "end_time": "2022-05-15T17:23:38.421309",
     "exception": false,
     "start_time": "2022-05-15T17:23:38.125693",
     "status": "completed"
    },
    "tags": []
   },
   "outputs": [],
   "source": [
    "model.compile(\n",
    "    loss=keras.losses.SparseCategoricalCrossentropy(), \n",
    "    optimizer=keras.optimizers.Adam(learning_rate=lr_schedule),\n",
    "    metrics=[\"accuracy\"])"
   ]
  },
  {
   "cell_type": "code",
   "execution_count": 13,
   "id": "ba54769d",
   "metadata": {
    "execution": {
     "iopub.execute_input": "2022-05-15T17:23:39.000457Z",
     "iopub.status.busy": "2022-05-15T17:23:38.999885Z",
     "iopub.status.idle": "2022-05-15T17:33:24.553675Z",
     "shell.execute_reply": "2022-05-15T17:33:24.552933Z"
    },
    "papermill": {
     "duration": 585.846014,
     "end_time": "2022-05-15T17:33:24.556156",
     "exception": false,
     "start_time": "2022-05-15T17:23:38.710142",
     "status": "completed"
    },
    "tags": []
   },
   "outputs": [
    {
     "name": "stdout",
     "output_type": "stream",
     "text": [
      "Epoch 1/100\n",
      "1313/1313 [==============================] - 6s 4ms/step - loss: 0.3074 - accuracy: 0.9038\n",
      "Epoch 2/100\n",
      "1313/1313 [==============================] - 6s 4ms/step - loss: 0.1868 - accuracy: 0.9429\n",
      "Epoch 3/100\n",
      "1313/1313 [==============================] - 5s 4ms/step - loss: 0.1478 - accuracy: 0.9543\n",
      "Epoch 4/100\n",
      "1313/1313 [==============================] - 5s 4ms/step - loss: 0.1277 - accuracy: 0.9598\n",
      "Epoch 5/100\n",
      "1313/1313 [==============================] - 5s 4ms/step - loss: 0.1135 - accuracy: 0.9649\n",
      "Epoch 6/100\n",
      "1313/1313 [==============================] - 5s 4ms/step - loss: 0.1038 - accuracy: 0.9679\n",
      "Epoch 7/100\n",
      "1313/1313 [==============================] - 5s 4ms/step - loss: 0.0948 - accuracy: 0.9711\n",
      "Epoch 8/100\n",
      "1313/1313 [==============================] - 5s 4ms/step - loss: 0.0851 - accuracy: 0.9736\n",
      "Epoch 9/100\n",
      "1313/1313 [==============================] - 6s 4ms/step - loss: 0.0795 - accuracy: 0.9745\n",
      "Epoch 10/100\n",
      "1313/1313 [==============================] - 6s 4ms/step - loss: 0.0780 - accuracy: 0.9754\n",
      "Epoch 11/100\n",
      "1313/1313 [==============================] - 5s 4ms/step - loss: 0.0706 - accuracy: 0.9778\n",
      "Epoch 12/100\n",
      "1313/1313 [==============================] - 6s 4ms/step - loss: 0.0649 - accuracy: 0.9796\n",
      "Epoch 13/100\n",
      "1313/1313 [==============================] - 5s 4ms/step - loss: 0.0607 - accuracy: 0.9807\n",
      "Epoch 14/100\n",
      "1313/1313 [==============================] - 5s 4ms/step - loss: 0.0637 - accuracy: 0.9804\n",
      "Epoch 15/100\n",
      "1313/1313 [==============================] - 6s 5ms/step - loss: 0.0540 - accuracy: 0.9826\n",
      "Epoch 16/100\n",
      "1313/1313 [==============================] - 5s 4ms/step - loss: 0.0537 - accuracy: 0.9825\n",
      "Epoch 17/100\n",
      "1313/1313 [==============================] - 6s 4ms/step - loss: 0.0493 - accuracy: 0.9846\n",
      "Epoch 18/100\n",
      "1313/1313 [==============================] - 6s 4ms/step - loss: 0.0492 - accuracy: 0.9842\n",
      "Epoch 19/100\n",
      "1313/1313 [==============================] - 5s 4ms/step - loss: 0.0468 - accuracy: 0.9852\n",
      "Epoch 20/100\n",
      "1313/1313 [==============================] - 5s 4ms/step - loss: 0.0413 - accuracy: 0.9869\n",
      "Epoch 21/100\n",
      "1313/1313 [==============================] - 6s 4ms/step - loss: 0.0436 - accuracy: 0.9859\n",
      "Epoch 22/100\n",
      "1313/1313 [==============================] - 6s 4ms/step - loss: 0.0425 - accuracy: 0.9866\n",
      "Epoch 23/100\n",
      "1313/1313 [==============================] - 6s 5ms/step - loss: 0.0360 - accuracy: 0.9884\n",
      "Epoch 24/100\n",
      "1313/1313 [==============================] - 5s 4ms/step - loss: 0.0371 - accuracy: 0.9884\n",
      "Epoch 25/100\n",
      "1313/1313 [==============================] - 5s 4ms/step - loss: 0.0395 - accuracy: 0.9871\n",
      "Epoch 26/100\n",
      "1313/1313 [==============================] - 5s 4ms/step - loss: 0.0357 - accuracy: 0.9880\n",
      "Epoch 27/100\n",
      "1313/1313 [==============================] - 6s 4ms/step - loss: 0.0322 - accuracy: 0.9895\n",
      "Epoch 28/100\n",
      "1313/1313 [==============================] - 5s 4ms/step - loss: 0.0359 - accuracy: 0.9888\n",
      "Epoch 29/100\n",
      "1313/1313 [==============================] - 7s 5ms/step - loss: 0.0303 - accuracy: 0.9902\n",
      "Epoch 30/100\n",
      "1313/1313 [==============================] - 5s 4ms/step - loss: 0.0309 - accuracy: 0.9900\n",
      "Epoch 31/100\n",
      "1313/1313 [==============================] - 5s 4ms/step - loss: 0.0288 - accuracy: 0.9906\n",
      "Epoch 32/100\n",
      "1313/1313 [==============================] - 5s 4ms/step - loss: 0.0286 - accuracy: 0.9904\n",
      "Epoch 33/100\n",
      "1313/1313 [==============================] - 6s 4ms/step - loss: 0.0272 - accuracy: 0.9914\n",
      "Epoch 34/100\n",
      "1313/1313 [==============================] - 6s 4ms/step - loss: 0.0285 - accuracy: 0.9905\n",
      "Epoch 35/100\n",
      "1313/1313 [==============================] - 6s 5ms/step - loss: 0.0253 - accuracy: 0.9921\n",
      "Epoch 36/100\n",
      "1313/1313 [==============================] - 5s 4ms/step - loss: 0.0272 - accuracy: 0.9912\n",
      "Epoch 37/100\n",
      "1313/1313 [==============================] - 6s 4ms/step - loss: 0.0259 - accuracy: 0.9915\n",
      "Epoch 38/100\n",
      "1313/1313 [==============================] - 6s 4ms/step - loss: 0.0256 - accuracy: 0.9920\n",
      "Epoch 39/100\n",
      "1313/1313 [==============================] - 6s 4ms/step - loss: 0.0268 - accuracy: 0.9914\n",
      "Epoch 40/100\n",
      "1313/1313 [==============================] - 5s 4ms/step - loss: 0.0253 - accuracy: 0.9920\n",
      "Epoch 41/100\n",
      "1313/1313 [==============================] - 7s 5ms/step - loss: 0.0244 - accuracy: 0.9925\n",
      "Epoch 42/100\n",
      "1313/1313 [==============================] - 5s 4ms/step - loss: 0.0253 - accuracy: 0.9922\n",
      "Epoch 43/100\n",
      "1313/1313 [==============================] - 6s 4ms/step - loss: 0.0222 - accuracy: 0.9930\n",
      "Epoch 44/100\n",
      "1313/1313 [==============================] - 6s 4ms/step - loss: 0.0224 - accuracy: 0.9930\n",
      "Epoch 45/100\n",
      "1313/1313 [==============================] - 5s 4ms/step - loss: 0.0233 - accuracy: 0.9922\n",
      "Epoch 46/100\n",
      "1313/1313 [==============================] - 6s 5ms/step - loss: 0.0233 - accuracy: 0.9925\n",
      "Epoch 47/100\n",
      "1313/1313 [==============================] - 7s 5ms/step - loss: 0.0205 - accuracy: 0.9935\n",
      "Epoch 48/100\n",
      "1313/1313 [==============================] - 6s 4ms/step - loss: 0.0223 - accuracy: 0.9932\n",
      "Epoch 49/100\n",
      "1313/1313 [==============================] - 5s 4ms/step - loss: 0.0199 - accuracy: 0.9938\n",
      "Epoch 50/100\n",
      "1313/1313 [==============================] - 7s 5ms/step - loss: 0.0198 - accuracy: 0.9936\n",
      "Epoch 51/100\n",
      "1313/1313 [==============================] - 5s 4ms/step - loss: 0.0215 - accuracy: 0.9933\n",
      "Epoch 52/100\n",
      "1313/1313 [==============================] - 6s 5ms/step - loss: 0.0194 - accuracy: 0.9935\n",
      "Epoch 53/100\n",
      "1313/1313 [==============================] - 6s 5ms/step - loss: 0.0205 - accuracy: 0.9932\n",
      "Epoch 54/100\n",
      "1313/1313 [==============================] - 6s 4ms/step - loss: 0.0195 - accuracy: 0.9942\n",
      "Epoch 55/100\n",
      "1313/1313 [==============================] - 6s 4ms/step - loss: 0.0175 - accuracy: 0.9939\n",
      "Epoch 56/100\n",
      "1313/1313 [==============================] - 6s 4ms/step - loss: 0.0203 - accuracy: 0.9937\n",
      "Epoch 57/100\n",
      "1313/1313 [==============================] - 6s 4ms/step - loss: 0.0179 - accuracy: 0.9945\n",
      "Epoch 58/100\n",
      "1313/1313 [==============================] - 6s 5ms/step - loss: 0.0165 - accuracy: 0.9946\n",
      "Epoch 59/100\n",
      "1313/1313 [==============================] - 6s 5ms/step - loss: 0.0166 - accuracy: 0.9948\n",
      "Epoch 60/100\n",
      "1313/1313 [==============================] - 6s 4ms/step - loss: 0.0210 - accuracy: 0.9938\n",
      "Epoch 61/100\n",
      "1313/1313 [==============================] - 7s 5ms/step - loss: 0.0163 - accuracy: 0.9948\n",
      "Epoch 62/100\n",
      "1313/1313 [==============================] - 5s 4ms/step - loss: 0.0161 - accuracy: 0.9946\n",
      "Epoch 63/100\n",
      "1313/1313 [==============================] - 6s 4ms/step - loss: 0.0189 - accuracy: 0.9945\n",
      "Epoch 64/100\n",
      "1313/1313 [==============================] - 7s 6ms/step - loss: 0.0172 - accuracy: 0.9949\n",
      "Epoch 65/100\n",
      "1313/1313 [==============================] - 6s 4ms/step - loss: 0.0154 - accuracy: 0.9948\n",
      "Epoch 66/100\n",
      "1313/1313 [==============================] - 6s 5ms/step - loss: 0.0165 - accuracy: 0.9950\n",
      "Epoch 67/100\n",
      "1313/1313 [==============================] - 5s 4ms/step - loss: 0.0173 - accuracy: 0.9944\n",
      "Epoch 68/100\n",
      "1313/1313 [==============================] - 6s 5ms/step - loss: 0.0161 - accuracy: 0.9946\n",
      "Epoch 69/100\n",
      "1313/1313 [==============================] - 6s 4ms/step - loss: 0.0169 - accuracy: 0.9945\n",
      "Epoch 70/100\n",
      "1313/1313 [==============================] - 8s 6ms/step - loss: 0.0156 - accuracy: 0.9952\n",
      "Epoch 71/100\n",
      "1313/1313 [==============================] - 6s 4ms/step - loss: 0.0155 - accuracy: 0.9952\n",
      "Epoch 72/100\n",
      "1313/1313 [==============================] - 6s 5ms/step - loss: 0.0139 - accuracy: 0.9957\n",
      "Epoch 73/100\n",
      "1313/1313 [==============================] - 5s 4ms/step - loss: 0.0152 - accuracy: 0.9950\n",
      "Epoch 74/100\n",
      "1313/1313 [==============================] - 6s 5ms/step - loss: 0.0149 - accuracy: 0.9954\n",
      "Epoch 75/100\n",
      "1313/1313 [==============================] - 6s 4ms/step - loss: 0.0150 - accuracy: 0.9956\n",
      "Epoch 76/100\n",
      "1313/1313 [==============================] - 8s 6ms/step - loss: 0.0146 - accuracy: 0.9954\n",
      "Epoch 77/100\n",
      "1313/1313 [==============================] - 6s 5ms/step - loss: 0.0140 - accuracy: 0.9958\n",
      "Epoch 78/100\n",
      "1313/1313 [==============================] - 6s 5ms/step - loss: 0.0138 - accuracy: 0.9954\n",
      "Epoch 79/100\n",
      "1313/1313 [==============================] - 6s 4ms/step - loss: 0.0142 - accuracy: 0.9958\n",
      "Epoch 80/100\n",
      "1313/1313 [==============================] - 5s 4ms/step - loss: 0.0137 - accuracy: 0.9957\n",
      "Epoch 81/100\n",
      "1313/1313 [==============================] - 6s 5ms/step - loss: 0.0154 - accuracy: 0.9955\n",
      "Epoch 82/100\n",
      "1313/1313 [==============================] - 8s 6ms/step - loss: 0.0133 - accuracy: 0.9958\n",
      "Epoch 83/100\n",
      "1313/1313 [==============================] - 6s 4ms/step - loss: 0.0130 - accuracy: 0.9960\n",
      "Epoch 84/100\n",
      "1313/1313 [==============================] - 6s 4ms/step - loss: 0.0138 - accuracy: 0.9958\n",
      "Epoch 85/100\n",
      "1313/1313 [==============================] - 6s 4ms/step - loss: 0.0128 - accuracy: 0.9962\n",
      "Epoch 86/100\n",
      "1313/1313 [==============================] - 6s 4ms/step - loss: 0.0118 - accuracy: 0.9963\n",
      "Epoch 87/100\n",
      "1313/1313 [==============================] - 6s 4ms/step - loss: 0.0144 - accuracy: 0.9956\n",
      "Epoch 88/100\n",
      "1313/1313 [==============================] - 9s 7ms/step - loss: 0.0131 - accuracy: 0.9959\n",
      "Epoch 89/100\n",
      "1313/1313 [==============================] - 6s 4ms/step - loss: 0.0109 - accuracy: 0.9962\n",
      "Epoch 90/100\n",
      "1313/1313 [==============================] - 6s 5ms/step - loss: 0.0137 - accuracy: 0.9958\n",
      "Epoch 91/100\n",
      "1313/1313 [==============================] - 6s 4ms/step - loss: 0.0127 - accuracy: 0.9961\n",
      "Epoch 92/100\n",
      "1313/1313 [==============================] - 6s 4ms/step - loss: 0.0113 - accuracy: 0.9963\n",
      "Epoch 93/100\n",
      "1313/1313 [==============================] - 6s 4ms/step - loss: 0.0133 - accuracy: 0.9960\n",
      "Epoch 94/100\n",
      "1313/1313 [==============================] - 6s 4ms/step - loss: 0.0125 - accuracy: 0.9963\n",
      "Epoch 95/100\n",
      "1313/1313 [==============================] - 6s 5ms/step - loss: 0.0116 - accuracy: 0.9966\n",
      "Epoch 96/100\n",
      "1313/1313 [==============================] - 6s 4ms/step - loss: 0.0119 - accuracy: 0.9962\n",
      "Epoch 97/100\n",
      "1313/1313 [==============================] - 6s 4ms/step - loss: 0.0115 - accuracy: 0.9965\n",
      "Epoch 98/100\n",
      "1313/1313 [==============================] - 6s 4ms/step - loss: 0.0100 - accuracy: 0.9968\n",
      "Epoch 99/100\n",
      "1313/1313 [==============================] - 7s 5ms/step - loss: 0.0122 - accuracy: 0.9963\n",
      "Epoch 100/100\n",
      "1313/1313 [==============================] - 8s 6ms/step - loss: 0.0120 - accuracy: 0.9965\n"
     ]
    },
    {
     "data": {
      "text/plain": [
       "<keras.callbacks.History at 0x7f2575bdb090>"
      ]
     },
     "execution_count": 13,
     "metadata": {},
     "output_type": "execute_result"
    }
   ],
   "source": [
    "model.fit(X, y, batch_size=32, epochs=100, verbose=1)"
   ]
  },
  {
   "cell_type": "code",
   "execution_count": 14,
   "id": "0f3ec6f8",
   "metadata": {
    "execution": {
     "iopub.execute_input": "2022-05-15T17:33:33.011462Z",
     "iopub.status.busy": "2022-05-15T17:33:33.010958Z",
     "iopub.status.idle": "2022-05-15T17:33:33.917812Z",
     "shell.execute_reply": "2022-05-15T17:33:33.916996Z"
    },
    "papermill": {
     "duration": 5.215506,
     "end_time": "2022-05-15T17:33:33.919820",
     "exception": false,
     "start_time": "2022-05-15T17:33:28.704314",
     "status": "completed"
    },
    "tags": []
   },
   "outputs": [
    {
     "name": "stdout",
     "output_type": "stream",
     "text": [
      "315/315 [==============================] - 1s 2ms/step - loss: 0.0050 - accuracy: 0.9996\n"
     ]
    },
    {
     "data": {
      "text/plain": [
       "[0.0049740020185709, 0.9996031522750854]"
      ]
     },
     "execution_count": 14,
     "metadata": {},
     "output_type": "execute_result"
    }
   ],
   "source": [
    "model.evaluate(X_test, y_test, batch_size=32, verbose=1)"
   ]
  },
  {
   "cell_type": "code",
   "execution_count": 15,
   "id": "428d611f",
   "metadata": {
    "execution": {
     "iopub.execute_input": "2022-05-15T17:33:42.456492Z",
     "iopub.status.busy": "2022-05-15T17:33:42.455899Z",
     "iopub.status.idle": "2022-05-15T17:33:43.922443Z",
     "shell.execute_reply": "2022-05-15T17:33:43.921546Z"
    },
    "papermill": {
     "duration": 5.604061,
     "end_time": "2022-05-15T17:33:43.924695",
     "exception": false,
     "start_time": "2022-05-15T17:33:38.320634",
     "status": "completed"
    },
    "tags": []
   },
   "outputs": [],
   "source": [
    "y_pred = model.predict(Xtest)\n",
    "y_pred = np.argmax(y_pred, axis=1)"
   ]
  },
  {
   "cell_type": "code",
   "execution_count": 16,
   "id": "8d88afa4",
   "metadata": {
    "execution": {
     "iopub.execute_input": "2022-05-15T17:33:52.514514Z",
     "iopub.status.busy": "2022-05-15T17:33:52.514193Z",
     "iopub.status.idle": "2022-05-15T17:33:52.576859Z",
     "shell.execute_reply": "2022-05-15T17:33:52.576128Z"
    },
    "papermill": {
     "duration": 4.285215,
     "end_time": "2022-05-15T17:33:52.587452",
     "exception": false,
     "start_time": "2022-05-15T17:33:48.302237",
     "status": "completed"
    },
    "tags": []
   },
   "outputs": [
    {
     "data": {
      "text/html": [
       "<div>\n",
       "<style scoped>\n",
       "    .dataframe tbody tr th:only-of-type {\n",
       "        vertical-align: middle;\n",
       "    }\n",
       "\n",
       "    .dataframe tbody tr th {\n",
       "        vertical-align: top;\n",
       "    }\n",
       "\n",
       "    .dataframe thead th {\n",
       "        text-align: right;\n",
       "    }\n",
       "</style>\n",
       "<table border=\"1\" class=\"dataframe\">\n",
       "  <thead>\n",
       "    <tr style=\"text-align: right;\">\n",
       "      <th></th>\n",
       "      <th>ImageId</th>\n",
       "      <th>Label</th>\n",
       "    </tr>\n",
       "  </thead>\n",
       "  <tbody>\n",
       "    <tr>\n",
       "      <th>0</th>\n",
       "      <td>1</td>\n",
       "      <td>2</td>\n",
       "    </tr>\n",
       "    <tr>\n",
       "      <th>1</th>\n",
       "      <td>2</td>\n",
       "      <td>0</td>\n",
       "    </tr>\n",
       "    <tr>\n",
       "      <th>2</th>\n",
       "      <td>3</td>\n",
       "      <td>9</td>\n",
       "    </tr>\n",
       "    <tr>\n",
       "      <th>3</th>\n",
       "      <td>4</td>\n",
       "      <td>9</td>\n",
       "    </tr>\n",
       "    <tr>\n",
       "      <th>4</th>\n",
       "      <td>5</td>\n",
       "      <td>3</td>\n",
       "    </tr>\n",
       "    <tr>\n",
       "      <th>...</th>\n",
       "      <td>...</td>\n",
       "      <td>...</td>\n",
       "    </tr>\n",
       "    <tr>\n",
       "      <th>27995</th>\n",
       "      <td>27996</td>\n",
       "      <td>9</td>\n",
       "    </tr>\n",
       "    <tr>\n",
       "      <th>27996</th>\n",
       "      <td>27997</td>\n",
       "      <td>7</td>\n",
       "    </tr>\n",
       "    <tr>\n",
       "      <th>27997</th>\n",
       "      <td>27998</td>\n",
       "      <td>3</td>\n",
       "    </tr>\n",
       "    <tr>\n",
       "      <th>27998</th>\n",
       "      <td>27999</td>\n",
       "      <td>9</td>\n",
       "    </tr>\n",
       "    <tr>\n",
       "      <th>27999</th>\n",
       "      <td>28000</td>\n",
       "      <td>2</td>\n",
       "    </tr>\n",
       "  </tbody>\n",
       "</table>\n",
       "<p>28000 rows × 2 columns</p>\n",
       "</div>"
      ],
      "text/plain": [
       "       ImageId  Label\n",
       "0            1      2\n",
       "1            2      0\n",
       "2            3      9\n",
       "3            4      9\n",
       "4            5      3\n",
       "...        ...    ...\n",
       "27995    27996      9\n",
       "27996    27997      7\n",
       "27997    27998      3\n",
       "27998    27999      9\n",
       "27999    28000      2\n",
       "\n",
       "[28000 rows x 2 columns]"
      ]
     },
     "execution_count": 16,
     "metadata": {},
     "output_type": "execute_result"
    }
   ],
   "source": [
    "submission_df = pd.DataFrame()\n",
    "image_id = [i for i in range(1, 28001)]\n",
    "submission_df['ImageId'] = image_id\n",
    "submission_df['Label'] = y_pred\n",
    "submission_df"
   ]
  },
  {
   "cell_type": "code",
   "execution_count": 17,
   "id": "ff0d22ac",
   "metadata": {
    "execution": {
     "iopub.execute_input": "2022-05-15T17:34:01.724830Z",
     "iopub.status.busy": "2022-05-15T17:34:01.724539Z",
     "iopub.status.idle": "2022-05-15T17:34:01.773557Z",
     "shell.execute_reply": "2022-05-15T17:34:01.772776Z"
    },
    "papermill": {
     "duration": 4.327875,
     "end_time": "2022-05-15T17:34:01.775788",
     "exception": false,
     "start_time": "2022-05-15T17:33:57.447913",
     "status": "completed"
    },
    "tags": []
   },
   "outputs": [],
   "source": [
    "submission_df.to_csv('submission.csv', index = False)"
   ]
  }
 ],
 "metadata": {
  "kernelspec": {
   "display_name": "Python 3 (ipykernel)",
   "language": "python",
   "name": "python3"
  },
  "language_info": {
   "codemirror_mode": {
    "name": "ipython",
    "version": 3
   },
   "file_extension": ".py",
   "mimetype": "text/x-python",
   "name": "python",
   "nbconvert_exporter": "python",
   "pygments_lexer": "ipython3",
   "version": "3.9.7"
  },
  "papermill": {
   "default_parameters": {},
   "duration": 703.672326,
   "end_time": "2022-05-15T17:34:08.786161",
   "environment_variables": {},
   "exception": null,
   "input_path": "__notebook__.ipynb",
   "output_path": "__notebook__.ipynb",
   "parameters": {},
   "start_time": "2022-05-15T17:22:25.113835",
   "version": "2.3.4"
  }
 },
 "nbformat": 4,
 "nbformat_minor": 5
}
